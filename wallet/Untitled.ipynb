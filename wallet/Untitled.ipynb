{
 "cells": [
  {
   "cell_type": "code",
   "execution_count": 1,
   "id": "b6cc7e4d-bacc-47b0-b012-e7475786fd9f",
   "metadata": {},
   "outputs": [],
   "source": [
    "import tkinter as tk"
   ]
  },
  {
   "cell_type": "code",
   "execution_count": 2,
   "id": "bd1c1a75-9ba0-469c-a23f-0bcb3293ae49",
   "metadata": {},
   "outputs": [],
   "source": [
    "window = tk.Tk()"
   ]
  },
  {
   "cell_type": "code",
   "execution_count": 3,
   "id": "7a6b37b0-2c68-4f02-aeb5-a15a3302e744",
   "metadata": {},
   "outputs": [],
   "source": [
    "greeting = tk.Label(text=\"Hello, Tkinter\")"
   ]
  },
  {
   "cell_type": "code",
   "execution_count": null,
   "id": "04ee16c1-9475-45dc-a634-acd0f75db3ff",
   "metadata": {},
   "outputs": [],
   "source": []
  }
 ],
 "metadata": {
  "kernelspec": {
   "display_name": "Python [conda env:ethereum] *",
   "language": "python",
   "name": "conda-env-ethereum-py"
  },
  "language_info": {
   "codemirror_mode": {
    "name": "ipython",
    "version": 3
   },
   "file_extension": ".py",
   "mimetype": "text/x-python",
   "name": "python",
   "nbconvert_exporter": "python",
   "pygments_lexer": "ipython3",
   "version": "3.7.10"
  }
 },
 "nbformat": 4,
 "nbformat_minor": 5
}
